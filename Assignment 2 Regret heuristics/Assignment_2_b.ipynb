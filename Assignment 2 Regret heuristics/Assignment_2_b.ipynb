{
 "cells": [
  {
   "cell_type": "markdown",
   "metadata": {},
   "source": [
    "# Regret Heuristics"
   ]
  },
  {
   "cell_type": "markdown",
   "metadata": {},
   "source": [
    "## Imports"
   ]
  },
  {
   "cell_type": "code",
   "execution_count": null,
   "metadata": {},
   "outputs": [],
   "source": [
    "import numpy as np\n",
    "np.random.seed(42)\n",
    "import pandas as pd\n",
    "import math\n",
    "import seaborn as sns\n",
    "\n",
    "import matplotlib.pyplot as plt\n",
    "import matplotlib.cm as cm"
   ]
  },
  {
   "cell_type": "markdown",
   "metadata": {},
   "source": [
    "## Constants Declarations"
   ]
  },
  {
   "cell_type": "code",
   "execution_count": null,
   "metadata": {},
   "outputs": [],
   "source": [
    "TSPA_PATH = \"../data/TSPA.csv\"\n",
    "TSPB_PATH = \"../data/TSPB.csv\""
   ]
  },
  {
   "cell_type": "markdown",
   "metadata": {},
   "source": [
    "## Read Data"
   ]
  },
  {
   "cell_type": "code",
   "execution_count": null,
   "metadata": {},
   "outputs": [
    {
     "data": {
      "text/html": [
       "<div>\n",
       "<style scoped>\n",
       "    .dataframe tbody tr th:only-of-type {\n",
       "        vertical-align: middle;\n",
       "    }\n",
       "\n",
       "    .dataframe tbody tr th {\n",
       "        vertical-align: top;\n",
       "    }\n",
       "\n",
       "    .dataframe thead th {\n",
       "        text-align: right;\n",
       "    }\n",
       "</style>\n",
       "<table border=\"1\" class=\"dataframe\">\n",
       "  <thead>\n",
       "    <tr style=\"text-align: right;\">\n",
       "      <th></th>\n",
       "      <th>x</th>\n",
       "      <th>y</th>\n",
       "      <th>val</th>\n",
       "    </tr>\n",
       "  </thead>\n",
       "  <tbody>\n",
       "    <tr>\n",
       "      <th>0</th>\n",
       "      <td>1355</td>\n",
       "      <td>1796</td>\n",
       "      <td>496</td>\n",
       "    </tr>\n",
       "    <tr>\n",
       "      <th>1</th>\n",
       "      <td>2524</td>\n",
       "      <td>387</td>\n",
       "      <td>414</td>\n",
       "    </tr>\n",
       "    <tr>\n",
       "      <th>2</th>\n",
       "      <td>2769</td>\n",
       "      <td>430</td>\n",
       "      <td>500</td>\n",
       "    </tr>\n",
       "    <tr>\n",
       "      <th>3</th>\n",
       "      <td>3131</td>\n",
       "      <td>1199</td>\n",
       "      <td>1133</td>\n",
       "    </tr>\n",
       "    <tr>\n",
       "      <th>4</th>\n",
       "      <td>661</td>\n",
       "      <td>87</td>\n",
       "      <td>903</td>\n",
       "    </tr>\n",
       "    <tr>\n",
       "      <th>...</th>\n",
       "      <td>...</td>\n",
       "      <td>...</td>\n",
       "      <td>...</td>\n",
       "    </tr>\n",
       "    <tr>\n",
       "      <th>195</th>\n",
       "      <td>189</td>\n",
       "      <td>1151</td>\n",
       "      <td>1145</td>\n",
       "    </tr>\n",
       "    <tr>\n",
       "      <th>196</th>\n",
       "      <td>3688</td>\n",
       "      <td>759</td>\n",
       "      <td>727</td>\n",
       "    </tr>\n",
       "    <tr>\n",
       "      <th>197</th>\n",
       "      <td>973</td>\n",
       "      <td>984</td>\n",
       "      <td>1637</td>\n",
       "    </tr>\n",
       "    <tr>\n",
       "      <th>198</th>\n",
       "      <td>910</td>\n",
       "      <td>1383</td>\n",
       "      <td>1255</td>\n",
       "    </tr>\n",
       "    <tr>\n",
       "      <th>199</th>\n",
       "      <td>262</td>\n",
       "      <td>1669</td>\n",
       "      <td>1307</td>\n",
       "    </tr>\n",
       "  </tbody>\n",
       "</table>\n",
       "<p>200 rows × 3 columns</p>\n",
       "</div>"
      ],
      "text/plain": [
       "        x     y   val\n",
       "0    1355  1796   496\n",
       "1    2524   387   414\n",
       "2    2769   430   500\n",
       "3    3131  1199  1133\n",
       "4     661    87   903\n",
       "..    ...   ...   ...\n",
       "195   189  1151  1145\n",
       "196  3688   759   727\n",
       "197   973   984  1637\n",
       "198   910  1383  1255\n",
       "199   262  1669  1307\n",
       "\n",
       "[200 rows x 3 columns]"
      ]
     },
     "metadata": {},
     "output_type": "display_data"
    }
   ],
   "source": [
    "df = pd.read_csv(TSPA_PATH, sep=\";\", header=None)\n",
    "df.columns = [\"x\", \"y\", \"val\"]\n",
    "df"
   ]
  },
  {
   "cell_type": "markdown",
   "metadata": {},
   "source": [
    "## Utils"
   ]
  },
  {
   "cell_type": "code",
   "execution_count": null,
   "metadata": {},
   "outputs": [],
   "source": [
    "def math_round(n):\n",
    "    '''\n",
    "    Mathematically rounds up to the nearest integer, always rounds up for 0.5\n",
    "\n",
    "    ParametersL\n",
    "    n: floating point number to round\n",
    "    '''\n",
    "    if n - math.floor(n) < 0.5:\n",
    "        return math.floor(n)\n",
    "    return math.ceil(n)"
   ]
  },
  {
   "cell_type": "code",
   "execution_count": null,
   "metadata": {},
   "outputs": [],
   "source": [
    "def plot_nodes_with_lines(df, connections=None):\n",
    "    \"\"\"\n",
    "    Plots nodes with optional lines connecting them, using a color scale to represent values.\n",
    "    \n",
    "    Parameters:\n",
    "    df: DataFrame of nodes, each with 'x', 'y', and 'val'.\n",
    "    connections: list of node indices in the DataFrame to connect in order.\n",
    "    \"\"\"\n",
    "    plt.figure(figsize=(14, 7))\n",
    "    norm = plt.Normalize(vmin=df.val.min(), vmax=df.val.max())\n",
    "    colors = cm.Reds(norm(df.val))\n",
    "    scatter = plt.scatter(df.x, df.y, c=df.val, cmap='Reds', s=100, edgecolors='black')\n",
    "\n",
    "    if connections is not None:\n",
    "        for start, end in zip(connections[:-1], connections[1:]):\n",
    "            plt.plot([df.x[start], df.x[end]], [df.y[start], df.y[end]], color='blue')\n",
    "        plt.plot([df.x[connections[-1]], df.x[connections[0]]], [df.y[connections[-1]], df.y[connections[0]]], color='blue')\n",
    "    cbar = plt.colorbar(scatter)\n",
    "    cbar.set_label('Node Cost')\n",
    "\n",
    "    plt.xlabel('X')\n",
    "    plt.ylabel('Y')\n",
    "    title = 'Nodes with Color-Scaled Values' if connections is None else 'Nodes with Values and Connections'\n",
    "    plt.title(title)\n",
    "    plt.grid(False)\n",
    "    plt.show()\n",
    "\n",
    "\n",
    "def get_distance_matrix(df, distance_function):\n",
    "    \"\"\"\n",
    "    Calculates the distance matrix for a set of nodes using the given distance function.\n",
    "\n",
    "    Parameters:\n",
    "    nodes: DataFrame of nodes, each with 'x', 'y', and 'val'.\n",
    "    distance_function: function that takes two points (x1, y1) and (x2, y2) and returns the distance.\n",
    "\n",
    "    Returns:\n",
    "    A 2D numpy array representing the distance matrix.\n",
    "    \"\"\"\n",
    "    positions = df[[\"x\", \"y\"]]\n",
    "    num_nodes = len(positions)\n",
    "    distance_matrix = np.zeros((num_nodes, num_nodes), dtype=np.int64)\n",
    "\n",
    "    for i in range(num_nodes):\n",
    "        for j in range(i, num_nodes):\n",
    "            dist = round(distance_function(positions.iloc[i], positions.iloc[j]))\n",
    "            distance_matrix[i, j] = dist\n",
    "            distance_matrix[j, i] = dist\n",
    "\n",
    "    return distance_matrix\n",
    "\n",
    "\n",
    "def calculate_score(solution, matrix, weights):\n",
    "    '''\n",
    "    Calculates solution score based on the matrix of distances and provided weights array.\n",
    "\n",
    "    Parameters:\n",
    "    solution: List or array of the solution\n",
    "    matrix: Numpy array with node distances (2D)\n",
    "    weights: Numpy array with node weights (1D - vector)\n",
    "    '''\n",
    "    score = 0\n",
    "    for i in range(len(solution)-1):\n",
    "        node_1 = solution[i]\n",
    "        node_2 = solution[i+1]\n",
    "        score += (matrix[node_1][node_2] + weights[node_1])\n",
    "    node_1 = solution[-1]\n",
    "    node_2 = solution[0]\n",
    "    score += (matrix[node_1][node_2] + weights[node_1])\n",
    "    return score\n",
    "\n",
    "def euclidean_distance(point1, point2):\n",
    "    return np.linalg.norm(point1 - point2)"
   ]
  },
  {
   "cell_type": "markdown",
   "metadata": {},
   "source": [
    "## Greedy 2-regret heuristic"
   ]
  },
  {
   "cell_type": "code",
   "execution_count": null,
   "metadata": {},
   "outputs": [],
   "source": []
  }
 ],
 "metadata": {
  "language_info": {
   "name": "python"
  }
 },
 "nbformat": 4,
 "nbformat_minor": 2
}
